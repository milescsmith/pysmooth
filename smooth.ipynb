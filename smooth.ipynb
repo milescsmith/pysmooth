{
 "cells": [
  {
   "cell_type": "code",
   "execution_count": 1,
   "metadata": {},
   "outputs": [],
   "source": [
    "from typing import List, Tuple"
   ]
  },
  {
   "cell_type": "code",
   "execution_count": 2,
   "metadata": {},
   "outputs": [],
   "source": [
    "import numpy as np"
   ]
  },
  {
   "cell_type": "code",
   "execution_count": 3,
   "metadata": {},
   "outputs": [],
   "source": [
    "def med3(u: float, v: float, w: float) -> float:\n",
    "    if (u <= v and v <= w) or (u >= v and v >= w):\n",
    "        return v\n",
    "    elif (u <= w and w <= v) or (u >= w and w >= v):\n",
    "        return w\n",
    "    else:\n",
    "        return u\n",
    "\n",
    "\n",
    "def imed3(u: float, v: float, w: float) -> int:\n",
    "    if (u <= v and v <= w) or (u >= v and v >= w):\n",
    "        return 0\n",
    "    elif (u <= w and w <= v) or (u >= w and w >= v):\n",
    "        return 1\n",
    "    else:\n",
    "        return -1\n",
    "\n",
    "\n",
    "def sm_3(\n",
    "    x: List[float], y: List[float], n: int, end_rule: int\n",
    ") -> Tuple[bool, List[float], List[float]]:\n",
    "    \"\"\"\n",
    "    y[] := Running Median of three (x) = \"3 (x[])\" with \"copy ends\"\n",
    "     ---  return chg := ( y != x ) */\n",
    "    \"\"\"\n",
    "    chg = False\n",
    "\n",
    "    if n <= 2:\n",
    "        for i in range(n):\n",
    "            y[i] = x[i]\n",
    "        return False\n",
    "\n",
    "    for i in range(1, n - 1):\n",
    "        j = imed3(x[i - 1], x[i], x[i + 1])\n",
    "        y[i] = x[i + j]\n",
    "        chg = chg or j\n",
    "\n",
    "    chg, y, x = sm_DO_ENDRULE(y, x, n, chg, end_rule)\n",
    "\n",
    "    return chg, x, y\n",
    "\n",
    "\n",
    "def sm_DO_ENDRULE(\n",
    "    y: List[float], x: List[float], n: int, chg: bool, end_rule: int\n",
    ") -> Tuple[bool, List[float], List[float]]:\n",
    "    if end_rule == 0: #\"sm_NO_ENDRULE\"\n",
    "        pass\n",
    "    elif end_rule == 1: #\"sm_COPY_ENDRULE\"\n",
    "        y[0] = x[0]\n",
    "        y[n-1] = x[n-1]\n",
    "    elif end_rule == 2: #\"sm_TUKEY_ENDRULE\"\n",
    "        y[0] = np.median([3 * y[1] - 2 * y[2], x[0], y[1]])\n",
    "        chg = chg or (y[0] != x[0])\n",
    "        y[n-1] = np.median([y[n-2], x[n-1], 3 * y[n-2] - 2 * y[n-3]])\n",
    "        chg = chg or (y[n-1] != x[n-1])\n",
    "    else:\n",
    "        raise RuntimeError(f\"invalid end-rule for running median of 3: {end_rule}\")\n",
    "\n",
    "    return chg, y, x\n",
    "\n",
    "\n",
    "def sm_3R(\n",
    "    x: float,\n",
    "    y: float,\n",
    "    z: float,\n",
    "    n: int,\n",
    "    end_rule: int,\n",
    ") -> Tuple[int, List[float], List[float]]:\n",
    "\n",
    "    chg, y, x = sm_3(x, y, n, 1) #\"sm_COPY_ENDRULE\"\n",
    "    it = chg\n",
    "\n",
    "    while chg:\n",
    "        chg, y, z = sm_3(y, z, n, 0) #\"sm_NO_ENDRULE\"\n",
    "        if chg:\n",
    "            it += 1\n",
    "            for i in range(1, n - 1):\n",
    "                y[i] = z[i]\n",
    "\n",
    "    if n > 2:\n",
    "        chg, y, x = sm_DO_ENDRULE(y, x, n, chg, end_rule)\n",
    "\n",
    "    if it:\n",
    "        return it, x, y, z\n",
    "    else:\n",
    "        return int(chg), x, y, z\n",
    "\n",
    "\n",
    "def sptest(x: List[float], i: int) -> bool:\n",
    "    \"\"\"\n",
    "    Split test:\n",
    "       Are we at a /-\\ or \\_/ location => split should be made ?\n",
    "    \"\"\"\n",
    "    if x[i] != x[i + 1]:\n",
    "        return False\n",
    "    elif (x[i - 1] <= x[i] and x[i + 1] <= x[i + 2]) or (\n",
    "        x[i - 1] >= x[i] and x[i + 1] >= x[i + 2]\n",
    "    ):\n",
    "        return False\n",
    "    else:\n",
    "        return True\n",
    "\n",
    "\n",
    "def sm_split3(\n",
    "    x: List[float], y: List[float], n: int, do_ends: bool\n",
    ") -> Tuple[bool, List[float], List[float]]:\n",
    "\n",
    "    # y[] := S(x[])  where S() = \"sm_split3\"\n",
    "    chg = False\n",
    "\n",
    "    for i in range(n):\n",
    "        y[i] = x[i]\n",
    "\n",
    "    if n <= 4:\n",
    "        return False, y, x\n",
    "\n",
    "    # Colin Goodall doesn't do splits near ends\n",
    "    # in spl() in Statlib's \"smoother\" code !!\n",
    "    if do_ends and sptest(x, 1):\n",
    "        chg = True\n",
    "        y[1] = x[0]\n",
    "        y[2] = med3(x[2], x[3], 3 * x[3] - 2 * x[4])\n",
    "\n",
    "    for i in range(2, n - 3):\n",
    "        if sptest(x, i):\n",
    "            # plateau at x[i] == x[i+1]\n",
    "            # at left :\n",
    "            if -1 < (j := imed3(x[i], x[i - 1], 3 * x[i - 1] - 2 * x[i - 2])):\n",
    "                if j == 0:\n",
    "                    y[i] = x[i - 1]\n",
    "                else:\n",
    "                    y[i] = 3 * x[i - 1] - 2 * x[i - 2]\n",
    "                chg = y[i] != x[i]\n",
    "            # at right :\n",
    "            if -1 < (j := imed3(x[i + 1], x[i + 2], 3 * x[i + 2] - 2 * x[i + 3])):\n",
    "                if j == 0:\n",
    "                    y[i + 1] = x[i + 2]\n",
    "                else:\n",
    "                    y[i + 1] = 3 * x[i + 2] - 2 * x[i + 3]\n",
    "                chg = y[i + 1] != x[i + 1]\n",
    "    if do_ends and sptest(x, n - 3):\n",
    "        chg = True\n",
    "        y[n - 2] = x[n - 1]\n",
    "        y[n - 3] = med3(x[n - 3], x[n - 4], 3 * x[n - 4] - 2 * x[n - 5])\n",
    "    return chg, x, y\n",
    "\n",
    "\n",
    "def sm_3RS3R(\n",
    "    x: List[float],\n",
    "    y: List[float],\n",
    "    z: List[float],\n",
    "    w: List[float],\n",
    "    n: int,\n",
    "    end_rule: int,\n",
    "    split_ends: bool,\n",
    ") -> Tuple[int, List[float], List[float], List[float], List[float]]:\n",
    "    # y[1:n] := \"3R S 3R\"(x[1:n]);  z = \"work\";\n",
    "\n",
    "    it, x, y, z = sm_3R(x, y, z, n, end_rule)\n",
    "    chg, y, z = sm_split3(y, z, n, split_ends)\n",
    "    if chg:\n",
    "        (\n",
    "            it2,\n",
    "            z,\n",
    "            y,\n",
    "            w,\n",
    "        ) = sm_3R(z, y, w, n, end_rule)\n",
    "        it += it2\n",
    "    # else y == z already\n",
    "    return (it + chg), x, y, z, w\n",
    "\n",
    "\n",
    "def sm_3RSS(\n",
    "    x: List[float],\n",
    "    y: List[float],\n",
    "    z: List[float],\n",
    "    n: int,\n",
    "    end_rule: int,\n",
    "    split_ends: bool,\n",
    ") -> Tuple[int, List[float], List[float], List[float]]:\n",
    "    # y[1:n] := \"3RSS\"(x[1:n]);  z = \"work\"\n",
    "\n",
    "    it, x, y, z = sm_3R(x, y, z, n, end_rule)\n",
    "    chg, y, z = sm_split3(y, z, n, split_ends)\n",
    "    if chg is True:\n",
    "        z, y = sm_split3(z, y, n, split_ends)\n",
    "    # else  y == z already\n",
    "    return (iter + (chg)), x, y, z\n",
    "\n",
    "\n",
    "def sm_3RSR(\n",
    "    x: List[float],\n",
    "    y: List[float],\n",
    "    z: List[float],\n",
    "    w: List[float],\n",
    "    n: int,\n",
    "    end_rule: int,\n",
    "    split_ends: bool,\n",
    ") -> Tuple[int, List[float], List[float], List[float], List[float]]:\n",
    "\n",
    "    # y[1:n] := \"3RSR\"(x[1:n]);  z := residuals; w = \"work\";\n",
    "\n",
    "    # == \"SR\" (as follows) is stupid ! (MM) ==\n",
    "\n",
    "    it, x, y, z = sm_3R(x, y, z, n, end_rule)\n",
    "\n",
    "    while chg is True:\n",
    "        it += 1\n",
    "        chg, y, z = sm_split3(y, z, n, split_ends)\n",
    "        ch2, z, y, w = sm_3R(z, y, w, n, end_rule)\n",
    "        chg = chg or ch2\n",
    "\n",
    "        if chg is False:\n",
    "            break\n",
    "        if iter > 2 * n:\n",
    "            break  # INF.LOOP stopper\n",
    "        for i in range(n):\n",
    "            z[i] = x[i] - y[i]\n",
    "\n",
    "    return it, x, y, z, w"
   ]
  },
  {
   "cell_type": "code",
   "execution_count": 8,
   "metadata": {},
   "outputs": [],
   "source": [
    "x1 = [4, 1, 3, 6, 6, 4, 1, 6, 2, 4, 2]\n",
    "n = len(x1)\n",
    "y = np.zeros(n)\n",
    "z = np.zeros(n)\n",
    "w = np.zeros(n)\n",
    "end_rule = 0\n",
    "split_ends = True"
   ]
  },
  {
   "cell_type": "code",
   "execution_count": 5,
   "metadata": {},
   "outputs": [],
   "source": [
    "it, x, y = sm_3(x=x1, y=y, n=n, end_rule=2)"
   ]
  },
  {
   "cell_type": "code",
   "execution_count": 6,
   "metadata": {},
   "outputs": [
    {
     "data": {
      "text/plain": [
       "1"
      ]
     },
     "execution_count": 6,
     "metadata": {},
     "output_type": "execute_result"
    }
   ],
   "source": [
    "it"
   ]
  },
  {
   "cell_type": "code",
   "execution_count": 7,
   "metadata": {},
   "outputs": [
    {
     "data": {
      "text/plain": [
       "array([4., 3., 3., 6., 6., 4., 4., 2., 4., 2., 2.])"
      ]
     },
     "execution_count": 7,
     "metadata": {},
     "output_type": "execute_result"
    }
   ],
   "source": [
    "y"
   ]
  },
  {
   "cell_type": "code",
   "execution_count": 5,
   "metadata": {},
   "outputs": [],
   "source": [
    "it, x, y, z = sm_3R(x=x1, y=y, z=z, n=n, end_rule=2)"
   ]
  },
  {
   "cell_type": "code",
   "execution_count": 6,
   "metadata": {},
   "outputs": [
    {
     "data": {
      "text/plain": [
       "[3.0, 3.0, 3.0, 6.0, 6.0, 4.0, 4.0, 4.0, 2.0, 2.0, 2.0]"
      ]
     },
     "execution_count": 6,
     "metadata": {},
     "output_type": "execute_result"
    }
   ],
   "source": [
    "y"
   ]
  },
  {
   "cell_type": "code",
   "execution_count": 9,
   "metadata": {},
   "outputs": [],
   "source": [
    "iend = 2\n",
    "#se = True if iend < 0 else False\n",
    "it, x, y, z, w = sm_3RS3R(x=x1, y=y, z=z, w=w, n=n, end_rule=abs(2), split_ends=split_ends)"
   ]
  },
  {
   "cell_type": "code",
   "execution_count": 10,
   "metadata": {},
   "outputs": [
    {
     "data": {
      "text/plain": [
       "array([3., 3., 3., 3., 4., 4., 4., 4., 2., 2., 2.])"
      ]
     },
     "execution_count": 10,
     "metadata": {},
     "output_type": "execute_result"
    }
   ],
   "source": [
    "y"
   ]
  },
  {
   "cell_type": "code",
   "execution_count": 11,
   "metadata": {},
   "outputs": [],
   "source": [
    "target = np.array([3, 3, 3, 3, 4, 4, 4, 4, 2, 2, 2])"
   ]
  },
  {
   "cell_type": "code",
   "execution_count": 13,
   "metadata": {},
   "outputs": [
    {
     "data": {
      "text/plain": [
       "True"
      ]
     },
     "execution_count": 13,
     "metadata": {},
     "output_type": "execute_result"
    }
   ],
   "source": [
    "all(y == target)"
   ]
  },
  {
   "cell_type": "code",
   "execution_count": 197,
   "metadata": {},
   "outputs": [],
   "source": [
    "from copy import deepcopy"
   ]
  },
  {
   "cell_type": "code",
   "execution_count": 222,
   "metadata": {},
   "outputs": [],
   "source": [
    "y1 = deepcopy(y)"
   ]
  },
  {
   "cell_type": "code",
   "execution_count": 223,
   "metadata": {},
   "outputs": [
    {
     "name": "stdout",
     "output_type": "stream",
     "text": [
      "[0. 3. 3. 6. 6. 4. 4. 2. 4. 2. 0.]\n"
     ]
    }
   ],
   "source": [
    "for i in range(1, n - 1):\n",
    "    j = imed3(x[i - 1], x[i], x[i + 1])\n",
    "    y[i] = x[i + j]\n",
    "    chg = chg or j\n",
    "\n",
    "print(y)"
   ]
  },
  {
   "cell_type": "code",
   "execution_count": 213,
   "metadata": {},
   "outputs": [],
   "source": [
    "y[0] = med3(3 * y[1] - 2 * y[2], x[0], y[1])"
   ]
  },
  {
   "cell_type": "code",
   "execution_count": 214,
   "metadata": {},
   "outputs": [
    {
     "data": {
      "text/plain": [
       "array([3., 3., 3., 6., 6., 4., 4., 2., 4., 2., 0.])"
      ]
     },
     "execution_count": 214,
     "metadata": {},
     "output_type": "execute_result"
    }
   ],
   "source": [
    "y"
   ]
  },
  {
   "cell_type": "code",
   "execution_count": 215,
   "metadata": {},
   "outputs": [],
   "source": [
    "chg = chg or (y[0] != x[0])"
   ]
  },
  {
   "cell_type": "code",
   "execution_count": 217,
   "metadata": {},
   "outputs": [],
   "source": [
    "y[-1] = med3(y[n - 2], x[n - 1], 3 * y[n - 2] - 2 * y[n - 3])"
   ]
  },
  {
   "cell_type": "code",
   "execution_count": 218,
   "metadata": {},
   "outputs": [],
   "source": [
    "chg = chg or (y[n - 1] != x[n - 1])"
   ]
  },
  {
   "cell_type": "code",
   "execution_count": 219,
   "metadata": {},
   "outputs": [
    {
     "data": {
      "text/plain": [
       "1"
      ]
     },
     "execution_count": 219,
     "metadata": {},
     "output_type": "execute_result"
    }
   ],
   "source": [
    "chg"
   ]
  },
  {
   "cell_type": "code",
   "execution_count": 220,
   "metadata": {},
   "outputs": [
    {
     "data": {
      "text/plain": [
       "array([3., 3., 3., 6., 6., 4., 4., 2., 4., 2., 2.])"
      ]
     },
     "execution_count": 220,
     "metadata": {},
     "output_type": "execute_result"
    }
   ],
   "source": [
    "y"
   ]
  },
  {
   "cell_type": "code",
   "execution_count": 224,
   "metadata": {},
   "outputs": [],
   "source": [
    "y[0] = med3(3 * y[1] - 2 * y[2], x[0], y[1])\n",
    "chg = chg or (y[0] != x[0])\n",
    "y[n - 1] = med3(y[n - 2], x[n - 1], 3 * y[n - 2] - 2 * y[n - 3])\n",
    "chg = chg or (y[n - 1] != x[n - 1])"
   ]
  },
  {
   "cell_type": "code",
   "execution_count": 225,
   "metadata": {},
   "outputs": [
    {
     "data": {
      "text/plain": [
       "array([3., 3., 3., 6., 6., 4., 4., 2., 4., 2., 2.])"
      ]
     },
     "execution_count": 225,
     "metadata": {},
     "output_type": "execute_result"
    }
   ],
   "source": [
    "y"
   ]
  },
  {
   "cell_type": "code",
   "execution_count": 180,
   "metadata": {},
   "outputs": [],
   "source": [
    "i = 1\n",
    "j = imed3(x[i - 1], x[i], x[i + 1])"
   ]
  },
  {
   "cell_type": "code",
   "execution_count": 191,
   "metadata": {},
   "outputs": [
    {
     "name": "stdout",
     "output_type": "stream",
     "text": [
      "-1\n",
      "1\n",
      "0\n",
      "0\n",
      "0\n",
      "0\n",
      "-1\n",
      "1\n",
      "1\n",
      "1\n"
     ]
    },
    {
     "ename": "IndexError",
     "evalue": "list index out of range",
     "output_type": "error",
     "traceback": [
      "\u001b[0;31m---------------------------------------------------------------------------\u001b[0m",
      "\u001b[0;31mIndexError\u001b[0m                                Traceback (most recent call last)",
      "\u001b[0;32m<ipython-input-191-39f78eb8d0b6>\u001b[0m in \u001b[0;36m<module>\u001b[0;34m\u001b[0m\n\u001b[1;32m      1\u001b[0m \u001b[0;32mfor\u001b[0m \u001b[0mi\u001b[0m \u001b[0;32min\u001b[0m \u001b[0mrange\u001b[0m\u001b[0;34m(\u001b[0m\u001b[0;36m0\u001b[0m\u001b[0;34m,\u001b[0m \u001b[0mlen\u001b[0m\u001b[0;34m(\u001b[0m\u001b[0mx1\u001b[0m\u001b[0;34m)\u001b[0m\u001b[0;34m)\u001b[0m\u001b[0;34m:\u001b[0m\u001b[0;34m\u001b[0m\u001b[0;34m\u001b[0m\u001b[0m\n\u001b[0;32m----> 2\u001b[0;31m     \u001b[0mprint\u001b[0m\u001b[0;34m(\u001b[0m\u001b[0mimed3\u001b[0m\u001b[0;34m(\u001b[0m\u001b[0mx1\u001b[0m\u001b[0;34m[\u001b[0m\u001b[0mi\u001b[0m\u001b[0;34m-\u001b[0m\u001b[0;36m1\u001b[0m\u001b[0;34m]\u001b[0m\u001b[0;34m,\u001b[0m \u001b[0mx1\u001b[0m\u001b[0;34m[\u001b[0m\u001b[0mi\u001b[0m\u001b[0;34m]\u001b[0m\u001b[0;34m,\u001b[0m \u001b[0mx1\u001b[0m\u001b[0;34m[\u001b[0m\u001b[0mi\u001b[0m\u001b[0;34m+\u001b[0m\u001b[0;36m1\u001b[0m\u001b[0;34m]\u001b[0m\u001b[0;34m)\u001b[0m\u001b[0;34m)\u001b[0m\u001b[0;34m\u001b[0m\u001b[0;34m\u001b[0m\u001b[0m\n\u001b[0m",
      "\u001b[0;31mIndexError\u001b[0m: list index out of range"
     ]
    }
   ],
   "source": [
    "for i in range(0, len(x1)):\n",
    "    print(imed3(x1[i-1], x1[i], x1[i+1]))"
   ]
  },
  {
   "cell_type": "code",
   "execution_count": 163,
   "metadata": {},
   "outputs": [
    {
     "name": "stdout",
     "output_type": "stream",
     "text": [
      "[2, 4, 1, 3, 6, 6, 4, 1, 6, 2, 4]\n"
     ]
    }
   ],
   "source": [
    "print([x1[_-1] for _, j in enumerate(x1)])"
   ]
  },
  {
   "cell_type": "code",
   "execution_count": 11,
   "metadata": {},
   "outputs": [],
   "source": [
    "from enum import IntEnum\n",
    "\n",
    "class endrule(IntEnum):\n",
    "    none = 0\n",
    "    copy = 1\n",
    "    tukey = 2"
   ]
  },
  {
   "cell_type": "code",
   "execution_count": 12,
   "metadata": {},
   "outputs": [],
   "source": [
    "a = endrule(2)"
   ]
  },
  {
   "cell_type": "code",
   "execution_count": 13,
   "metadata": {},
   "outputs": [
    {
     "data": {
      "text/plain": [
       "'tukey'"
      ]
     },
     "execution_count": 13,
     "metadata": {},
     "output_type": "execute_result"
    }
   ],
   "source": [
    "a.name"
   ]
  },
  {
   "cell_type": "code",
   "execution_count": 17,
   "metadata": {},
   "outputs": [],
   "source": [
    "b = endrule(a - 1)"
   ]
  },
  {
   "cell_type": "code",
   "execution_count": 18,
   "metadata": {},
   "outputs": [
    {
     "data": {
      "text/plain": [
       "'copy'"
      ]
     },
     "execution_count": 18,
     "metadata": {},
     "output_type": "execute_result"
    }
   ],
   "source": [
    "b.name"
   ]
  }
 ],
 "metadata": {
  "kernelspec": {
   "display_name": "Python 3.10 (XPython)",
   "language": "python",
   "name": "xpython"
  },
  "language_info": {
   "file_extension": ".py",
   "mimetype": "text/x-python",
   "name": "python",
   "version": "3.10.0"
  }
 },
 "nbformat": 4,
 "nbformat_minor": 4
}
